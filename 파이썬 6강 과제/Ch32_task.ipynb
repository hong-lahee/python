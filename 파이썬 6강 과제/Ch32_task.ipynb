{
 "cells": [
  {
   "cell_type": "markdown",
   "metadata": {},
   "source": [
    "두 문자열을 받아서 긴 문자열을 반환하는 함수 longer_string을 작성하세요. 만약 두 문자열의 길이가 같다면, 첫 번째 문자열을 반환하세요."
   ]
  },
  {
   "cell_type": "markdown",
   "metadata": {},
   "source": []
  },
  {
   "metadata": {
    "ExecuteTime": {
     "end_time": "2025-04-23T17:55:57.453552Z",
     "start_time": "2025-04-23T17:55:57.447965Z"
    }
   },
   "cell_type": "code",
   "source": [
    "def longer_string(x, y):\n",
    "    if len(x) > len(y):\n",
    "        return x\n",
    "    elif len(x) < len(y):\n",
    "        return y\n",
    "    else:\n",
    "        return x\n",
    "\n",
    "longer_string(\"hello\", \"world\")"
   ],
   "outputs": [
    {
     "data": {
      "text/plain": [
       "'hello'"
      ]
     },
     "execution_count": 2,
     "metadata": {},
     "output_type": "execute_result"
    }
   ],
   "execution_count": 2
  }
 ],
 "metadata": {
  "language_info": {
   "name": "python"
  }
 },
 "nbformat": 4,
 "nbformat_minor": 2
}
