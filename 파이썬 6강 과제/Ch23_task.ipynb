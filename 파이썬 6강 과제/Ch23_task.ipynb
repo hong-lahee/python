{
 "cells": [
  {
   "cell_type": "markdown",
   "metadata": {},
   "source": [
    "사용자의 이름을 출력하는 함수 print_name을 작성하세요. 만약 이름이 주어지지 않았다면, 기본값으로 \"익명\"을 사용하세요."
   ]
  },
  {
   "cell_type": "markdown",
   "metadata": {},
   "source": []
  },
  {
   "metadata": {
    "ExecuteTime": {
     "end_time": "2025-04-23T17:00:35.156849Z",
     "start_time": "2025-04-23T17:00:33.319625Z"
    }
   },
   "cell_type": "code",
   "source": [
    "def print_name(name='익명'):\n",
    "    name = input(\"이름을 입력해주세요\")\n",
    "    return name\n",
    "\n",
    "print(f'나는{print_name()}이다.')"
   ],
   "outputs": [
    {
     "name": "stdout",
     "output_type": "stream",
     "text": [
      "나는이다.\n"
     ]
    }
   ],
   "execution_count": 9
  },
  {
   "metadata": {},
   "cell_type": "code",
   "outputs": [],
   "execution_count": null,
   "source": "\n"
  }
 ],
 "metadata": {
  "language_info": {
   "name": "python"
  }
 },
 "nbformat": 4,
 "nbformat_minor": 2
}
