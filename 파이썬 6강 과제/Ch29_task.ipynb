{
 "cells": [
  {
   "cell_type": "markdown",
   "metadata": {},
   "source": [
    "주어진 숫자가 짝수인지 확인하는 함수 is_even을 작성하세요. 짝수라면 True를, 아니라면 False를 반환하세요. 함수 내에서 조기 리턴을 활용하세요."
   ]
  },
  {
   "cell_type": "markdown",
   "metadata": {},
   "source": []
  },
  {
   "metadata": {
    "ExecuteTime": {
     "end_time": "2025-04-23T17:42:37.206503Z",
     "start_time": "2025-04-23T17:42:37.200603Z"
    }
   },
   "cell_type": "code",
   "source": [
    "def is_even(num):\n",
    "    if num % 2 != 0:\n",
    "        return False\n",
    "    else:\n",
    "        return True\n",
    "\n",
    "is_even(5)"
   ],
   "outputs": [
    {
     "data": {
      "text/plain": [
       "False"
      ]
     },
     "execution_count": 2,
     "metadata": {},
     "output_type": "execute_result"
    }
   ],
   "execution_count": 2
  }
 ],
 "metadata": {
  "language_info": {
   "name": "python"
  }
 },
 "nbformat": 4,
 "nbformat_minor": 2
}
