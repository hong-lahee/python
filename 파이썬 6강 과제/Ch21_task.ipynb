{
 "cells": [
  {
   "cell_type": "markdown",
   "metadata": {},
   "source": [
    "사용자로부터 이름과 나이를 입력 받아, \"안녕하세요, [이름]님! 당신은 [나이]살입니다.\"라고 출력하는 함수 greet_user를 작성하세요."
   ]
  },
  {
   "cell_type": "markdown",
   "metadata": {},
   "source": []
  },
  {
   "metadata": {
    "ExecuteTime": {
     "end_time": "2025-04-23T16:54:26.553342Z",
     "start_time": "2025-04-23T16:54:26.550795Z"
    }
   },
   "cell_type": "code",
   "source": [
    "def greet_user(name, age):\n",
    "    name = input (str('이름을 입력해주세요'))\n",
    "    age = input (int('나이을 숫자만 입력해주세요'))\n",
    "    return print(f'{name}님! 당신은 {age}살입니다.')\n",
    "\n",
    "# 이거 왜 오류가 뜨는건지 잘모르겠어요"
   ],
   "outputs": [],
   "execution_count": 13
  }
 ],
 "metadata": {
  "language_info": {
   "name": "python"
  }
 },
 "nbformat": 4,
 "nbformat_minor": 2
}
