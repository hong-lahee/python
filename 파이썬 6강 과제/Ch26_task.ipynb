{
 "cells": [
  {
   "cell_type": "markdown",
   "metadata": {},
   "source": [
    "0부터 시작하여 n까지의 숫자 중에서 홀수만 생성하는 제너레이터 odd_numbers를 작성하세요."
   ]
  },
  {
   "cell_type": "markdown",
   "metadata": {},
   "source": []
  },
  {
   "metadata": {
    "ExecuteTime": {
     "end_time": "2025-04-23T17:29:44.337364Z",
     "start_time": "2025-04-23T17:29:44.334512Z"
    }
   },
   "cell_type": "code",
   "source": [
    "def odd_numbers(n):\n",
    "    for i in range(n + 1):\n",
    "        if i % 2 == 1:\n",
    "            yield i\n",
    "\n",
    "print(list(odd_numbers(5)))\n",
    "# 근데 next가 없는 어떻게 출력이 가능한거져?"
   ],
   "outputs": [
    {
     "name": "stdout",
     "output_type": "stream",
     "text": [
      "[1, 3, 5]\n"
     ]
    }
   ],
   "execution_count": 27
  }
 ],
 "metadata": {
  "language_info": {
   "name": "python"
  }
 },
 "nbformat": 4,
 "nbformat_minor": 2
}
