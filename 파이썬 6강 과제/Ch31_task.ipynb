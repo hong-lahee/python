{
 "cells": [
  {
   "cell_type": "markdown",
   "metadata": {},
   "source": [
    "문자열 리스트를 받아, 각 문자열의 길이를 출력하는 함수 print_lengths를 작성하세요."
   ]
  },
  {
   "metadata": {
    "ExecuteTime": {
     "end_time": "2025-04-23T17:52:06.838131Z",
     "start_time": "2025-04-23T17:52:06.832538Z"
    }
   },
   "cell_type": "code",
   "source": [
    "from os.path import split\n",
    "\n",
    "\n",
    "def print_lengths(*lengs):\n",
    "    for leng in lengs:\n",
    "        print(len(leng))\n",
    "\n",
    "print(print_lengths('안녕하세요', '반가워요', '안녕'))"
   ],
   "outputs": [
    {
     "name": "stdout",
     "output_type": "stream",
     "text": [
      "5\n",
      "4\n",
      "2\n",
      "None\n"
     ]
    }
   ],
   "execution_count": 5
  }
 ],
 "metadata": {
  "language_info": {
   "name": "python"
  }
 },
 "nbformat": 4,
 "nbformat_minor": 2
}
