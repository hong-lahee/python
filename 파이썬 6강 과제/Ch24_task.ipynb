{
 "cells": [
  {
   "cell_type": "markdown",
   "metadata": {},
   "source": "사용자의 이름, 나이, 성별을 출력하는 함수 print_info를 작성하세요. 이 때, 모든 매개변수는 키워드 매개변수로만 받도록 하세요."
  },
  {
   "cell_type": "markdown",
   "metadata": {},
   "source": []
  },
  {
   "metadata": {
    "ExecuteTime": {
     "end_time": "2025-04-23T17:05:54.675321Z",
     "start_time": "2025-04-23T17:05:38.195093Z"
    }
   },
   "cell_type": "code",
   "source": [
    "def print_info(이름='이름', 나이='나이', 성별='성별'):\n",
    "    이름 = input('이름을 입력하세요')\n",
    "    나이 = input('나이를 입력하세요')\n",
    "    성별 = input('성별을 입력하세요')\n",
    "    return [이름, 나이, 성별]\n",
    "\n",
    "print_info()"
   ],
   "outputs": [
    {
     "data": {
      "text/plain": [
       "['라희', '25', '여자']"
      ]
     },
     "execution_count": 2,
     "metadata": {},
     "output_type": "execute_result"
    }
   ],
   "execution_count": 2
  }
 ],
 "metadata": {
  "language_info": {
   "name": "python"
  }
 },
 "nbformat": 4,
 "nbformat_minor": 2
}
