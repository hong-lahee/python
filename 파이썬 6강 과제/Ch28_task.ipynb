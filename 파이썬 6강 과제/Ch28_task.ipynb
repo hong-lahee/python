{
 "cells": [
  {
   "cell_type": "markdown",
   "metadata": {},
   "source": [
    "사용자로부터 3개의 숫자를 입력받아, 이를 튜플로 만든 후 최소값과 최대값을 출력하는 함수 min_max를 작성하세요."
   ]
  },
  {
   "cell_type": "markdown",
   "metadata": {},
   "source": []
  },
  {
   "metadata": {
    "ExecuteTime": {
     "end_time": "2025-04-23T17:39:59.024039Z",
     "start_time": "2025-04-23T17:39:59.019973Z"
    }
   },
   "cell_type": "code",
   "source": [
    "def mini_max(a,b,c):\n",
    "    print(min([a,b,c]))\n",
    "    print(max([a,b,c]))\n",
    "    return\n",
    "mini_max(1,2,3)"
   ],
   "outputs": [
    {
     "name": "stdout",
     "output_type": "stream",
     "text": [
      "1\n",
      "3\n"
     ]
    }
   ],
   "execution_count": 2
  }
 ],
 "metadata": {
  "language_info": {
   "name": "python"
  }
 },
 "nbformat": 4,
 "nbformat_minor": 2
}
