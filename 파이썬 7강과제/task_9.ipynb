{
 "cells": [
  {
   "cell_type": "markdown",
   "metadata": {},
   "source": []
  },
  {
   "metadata": {},
   "cell_type": "markdown",
   "source": [
    "animals라는 패키지를 만들고, 이 패키지 내에 mammals, birds라는 두 개의 서브 모듈을 생성하세요.\n",
    "\n",
    "- 각 모듈에는 최소한 한 개 이상의 동물에 관한 클래스를 정의하세요<br>\n",
    "  (예: mammals에는 Dog, birds에는 Eagle)\n",
    "- 이 패키지와 모듈을 사용하여 동물들의 정보를 출력하는 프로그램을 작성\n",
    "\n",
    "폴더 및 파일 구조\n",
    "```\n",
    "animals/(폴더)\n",
    "├── __init__.py\n",
    "├── mammals.py\n",
    "└── birds.py\n",
    "```\n"
   ]
  },
  {
   "metadata": {
    "ExecuteTime": {
     "end_time": "2025-04-24T12:20:55.492882Z",
     "start_time": "2025-04-24T12:20:55.487060Z"
    }
   },
   "cell_type": "code",
   "source": [
    "import animals_package.mammals as ma\n",
    "import animals_package.birds as bi\n",
    "\n",
    "킁카 = ma.Cat('브르티쉬 롱헤어','육식동물', '야행성이고 높은곳을 좋아하며 독립성이 뛰어나다', '영리한 편이다')\n",
    "\n",
    "print(f'우리집 고양이 이름은 킁카이며 종류는 {킁카.name}이다 {킁카.eat}이며 {킁카.character} 그리고 {킁카.intelligence}')"
   ],
   "outputs": [
    {
     "name": "stdout",
     "output_type": "stream",
     "text": [
      "우리집 고양이 이름은 킁카이며 종류는 브르티쉬 롱헤어이다 육식동물이며 야행성이고 높은곳을 좋아하며 독립성이 뛰어나다 그리고 영리한 편이다\n"
     ]
    }
   ],
   "execution_count": 2
  }
 ],
 "metadata": {
  "language_info": {
   "name": "python"
  }
 },
 "nbformat": 4,
 "nbformat_minor": 2
}
