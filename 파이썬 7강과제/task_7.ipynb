{
 "cells": [
  {
   "cell_type": "markdown",
   "metadata": {},
   "source": [
    "함수 실행 시간을 측정하는 데코레이터 timer_decorator를 작성하세요. \n",
    "\n",
    "임의의 함수가 실행되는 시간을 측정하여 \"함수 실행 시간: x.xx초\" 형태로 출력하세요."
   ]
  },
  {
   "cell_type": "markdown",
   "metadata": {},
   "source": []
  },
  {
   "metadata": {
    "ExecuteTime": {
     "end_time": "2025-04-24T11:54:36.214446Z",
     "start_time": "2025-04-24T11:54:36.210211Z"
    }
   },
   "cell_type": "code",
   "source": [
    "import time\n",
    "\n",
    "def timer_decorator(func):\n",
    "    def wrapper(*args, **kwargs):\n",
    "        start_time = time.time()  # 시작 시간 기록\n",
    "        result = func(*args, **kwargs)  # 원래 함수 실행\n",
    "        end_time = time.time()  # 종료 시간 기록\n",
    "        elapsed_time = end_time - start_time\n",
    "        print(f\"함수 실행 시간: {elapsed_time:.2f}초\")\n",
    "        return result\n",
    "    return wrapper\n",
    "\n",
    "# 이건 정답을 봐도 이해가 잘안되서 걍 복붙 해놨씁니다 ..허허\n",
    "\n",
    "\n",
    "\n",
    "@timer_decorator\n",
    "def a(x, y):\n",
    "    return x + y\n",
    "print(a(1, 2))\n",
    "\n"
   ],
   "outputs": [
    {
     "name": "stdout",
     "output_type": "stream",
     "text": [
      "함수 실행 시간: 0.00초\n",
      "3\n"
     ]
    }
   ],
   "execution_count": 4
  }
 ],
 "metadata": {
  "language_info": {
   "name": "python"
  }
 },
 "nbformat": 4,
 "nbformat_minor": 2
}
