{
 "cells": [
  {
   "cell_type": "markdown",
   "metadata": {},
   "source": [
    "requests 모듈을 사용하여, 웹 페이지의 HTML을 가져오는 간단한 웹 스크레이퍼를 작성하세요.\n",
    "\n",
    "'https://kream.co.kr/'에서<br>\n",
    "데이터를 가져와서 상태 코드와 HTML의 첫 100자를 출력하세요.<br>\n",
    "(실습 전 requests 모듈을 설치해야 함)"
   ]
  },
  {
   "cell_type": "markdown",
   "metadata": {},
   "source": []
  },
  {
   "metadata": {
    "ExecuteTime": {
     "end_time": "2025-04-24T11:43:32.130963Z",
     "start_time": "2025-04-24T11:43:32.035418Z"
    }
   },
   "cell_type": "code",
   "source": [
    "import requests\n",
    "url = 'https://www.naver.com/'\n",
    "response = requests.get(url)\n",
    "response.status_code # 200이 뜨면 된다\n",
    "html = response.text\n",
    "print(html[0:101])"
   ],
   "outputs": [
    {
     "name": "stdout",
     "output_type": "stream",
     "text": [
      "   <!doctype html> <html lang=\"ko\" class=\"fzoom\"> <head> <meta charset=\"utf-8\"> <meta name=\"Referrer\"\n"
     ]
    }
   ],
   "execution_count": 7
  }
 ],
 "metadata": {
  "language_info": {
   "name": "python"
  }
 },
 "nbformat": 4,
 "nbformat_minor": 2
}
