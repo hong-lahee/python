{
 "cells": [
  {
   "cell_type": "markdown",
   "metadata": {},
   "source": [
    "사용자로부터 두 개의 숫자를 입력받아 나눗셈을 수행하는 프로그램을 작성하세요. \n",
    "\n",
    "[예외처리]\n",
    "- 입력 값이 숫자가 아닐 때 발생할 수 있는 ValueError\n",
    "- 나누는 수가 0일 때 발생할 수 있는 ZeroDivisionError\n",
    "- 위 2가지 예외처리 후 사용자에게 이해하기 쉬운 메시지 작성 후 출력되도록 코드를 작성"
   ]
  },
  {
   "metadata": {
    "ExecuteTime": {
     "end_time": "2025-04-24T06:05:20.468012Z",
     "start_time": "2025-04-24T06:05:09.496558Z"
    }
   },
   "cell_type": "code",
   "source": [
    "try:\n",
    "    a = float(input('나누고 싶은 숫자를 입력하세요'))\n",
    "    b = float(input('나누고 싶은 숫자를 입력하세요'))\n",
    "\n",
    "    result = a / b\n",
    "    print(result)\n",
    "\n",
    "except ZeroDivisionError:\n",
    "    print('0은 입력하실수가 없습니다')\n",
    "\n",
    "except ValueError:\n",
    "    print('정수를 입력해주십시오')\n",
    "\n",
    "print(result())\n",
    "\n",
    "\n",
    "\n"
   ],
   "outputs": [
    {
     "name": "stdout",
     "output_type": "stream",
     "text": [
      "0은 입력하실수가 없습니다\n"
     ]
    },
    {
     "ename": "TypeError",
     "evalue": "'float' object is not callable",
     "output_type": "error",
     "traceback": [
      "\u001B[31m---------------------------------------------------------------------------\u001B[39m",
      "\u001B[31mTypeError\u001B[39m                                 Traceback (most recent call last)",
      "\u001B[36mCell\u001B[39m\u001B[36m \u001B[39m\u001B[32mIn[7]\u001B[39m\u001B[32m, line 14\u001B[39m\n\u001B[32m     11\u001B[39m \u001B[38;5;28;01mexcept\u001B[39;00m \u001B[38;5;167;01mValueError\u001B[39;00m:\n\u001B[32m     12\u001B[39m     \u001B[38;5;28mprint\u001B[39m(\u001B[33m'\u001B[39m\u001B[33m정수를 입력해주십시오\u001B[39m\u001B[33m'\u001B[39m)\n\u001B[32m---> \u001B[39m\u001B[32m14\u001B[39m \u001B[38;5;28mprint\u001B[39m(\u001B[43mresult\u001B[49m\u001B[43m(\u001B[49m\u001B[43m)\u001B[49m)\n",
      "\u001B[31mTypeError\u001B[39m: 'float' object is not callable"
     ]
    }
   ],
   "execution_count": 7
  }
 ],
 "metadata": {
  "language_info": {
   "name": "python"
  }
 },
 "nbformat": 4,
 "nbformat_minor": 2
}
