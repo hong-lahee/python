{
 "cells": [
  {
   "cell_type": "markdown",
   "metadata": {},
   "source": [
    "파일을 읽어서 내용을 출력하는 프로그램을 작성하세요. \n",
    "\n",
    "- 파일이 존재하지 않을 때 발생하는 FileNotFoundError를 처리\n",
    "- 파일이 존재하지 않을 경우 \"파일을 찾을 수 없습니다.\"라는 메시지를 출력"
   ]
  },
  {
   "metadata": {
    "ExecuteTime": {
     "end_time": "2025-04-24T06:13:34.480816Z",
     "start_time": "2025-04-24T06:13:34.478004Z"
    }
   },
   "cell_type": "code",
   "source": [
    "try:\n",
    "    with open ('*', 'r') as f:\n",
    "        file = f.read()\n",
    "        print(file)\n",
    "\n",
    "except FileNotFoundError:\n",
    "    print('파일을 찾을수 없습니다')"
   ],
   "outputs": [
    {
     "name": "stdout",
     "output_type": "stream",
     "text": [
      "파일을 찾을수 없습니다\n"
     ]
    }
   ],
   "execution_count": 10
  }
 ],
 "metadata": {
  "language_info": {
   "name": "python"
  }
 },
 "nbformat": 4,
 "nbformat_minor": 2
}
