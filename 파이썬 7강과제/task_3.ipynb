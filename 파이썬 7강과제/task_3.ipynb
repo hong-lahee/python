{
 "cells": [
  {
   "cell_type": "markdown",
   "metadata": {},
   "source": [
    "사용자로부터 여러 개의 숫자를 입력받아 리스트에 저장한 후, 사용자가 'done'이라고 입력할 때까지 계속 입력받으세요. \n",
    "\n",
    "- 입력 중 숫자가 아닌 값이 입력되면 ValueError를 처리\n",
    "- 숫자 외 값이 입력된 경우 어떤 값이 잘못 입력되었는지 사용자에게 알려주는 문구 출력<br>\n",
    "  (예: f\"잘못된 값: {변수}. 숫자를 입력해주세요.\")\n",
    "\n"
   ]
  },
  {
   "cell_type": "markdown",
   "metadata": {},
   "source": []
  },
  {
   "metadata": {
    "ExecuteTime": {
     "end_time": "2025-04-24T06:28:53.612350Z",
     "start_time": "2025-04-24T06:28:32.029414Z"
    }
   },
   "cell_type": "code",
   "source": [
    "a = []\n",
    "\n",
    "while True:\n",
    "    my_liet =input('리스트에 저장하고 싶은 숫자를 입력해주세요. done을 입력하면 종료됩니다')\n",
    "\n",
    "    if my_liet == 'done':\n",
    "        break\n",
    "\n",
    "    try:\n",
    "        b = int(my_liet)\n",
    "        a.append(b)\n",
    "\n",
    "    except ValueError:\n",
    "        print(f'잘못된값 : {my_liet}. 숫자를 입력해주세요')\n",
    "\n",
    "print(a)\n",
    "\n",
    "\n"
   ],
   "outputs": [
    {
     "name": "stdout",
     "output_type": "stream",
     "text": [
      "잘못된값 : f. 숫자를 입력해주세요\n",
      "잘못된값 : r. 숫자를 입력해주세요\n",
      "[5, 5, 6, 7]\n"
     ]
    }
   ],
   "execution_count": 6
  },
  {
   "metadata": {},
   "cell_type": "code",
   "outputs": [],
   "execution_count": null,
   "source": ""
  }
 ],
 "metadata": {
  "language_info": {
   "name": "python"
  }
 },
 "nbformat": 4,
 "nbformat_minor": 2
}
