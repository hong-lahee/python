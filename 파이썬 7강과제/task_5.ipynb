{
 "cells": [
  {
   "cell_type": "markdown",
   "metadata": {},
   "source": [
    "datetime 모듈을 사용하여 현재 날짜와 시간을 출력하는 프로그램을 작성하세요. \n",
    "\n",
    "또한, 사용자로부터 태어난 년도를 입력받아 현재 나이를 계산하여 출력하세요."
   ]
  },
  {
   "metadata": {
    "ExecuteTime": {
     "end_time": "2025-04-24T06:57:33.467274Z",
     "start_time": "2025-04-24T06:57:25.364003Z"
    }
   },
   "cell_type": "code",
   "source": [
    "import datetime as dt\n",
    "now = dt.datetime.now()\n",
    "\n",
    "print(f'오늘은 {now.year}년 {now.month}월 {now.day}일 {now.hour}시 {now.minute}분 {now.second}초 입니다.')\n",
    "\n",
    "\n",
    "year = (input('태어난 년도를 써주세요'))\n",
    "\n",
    "if year.isdigit():\n",
    "    year = int(year)\n",
    "    age = now.year - year + 1\n",
    "else:\n",
    "    print('다시 입력해주세요')\n",
    "\n",
    "print(age)"
   ],
   "outputs": [
    {
     "name": "stdout",
     "output_type": "stream",
     "text": [
      "오늘은 2025년 4월 24일 15시 57분 25초 입니다.\n",
      "다시 입력해주세요\n",
      "25\n"
     ]
    }
   ],
   "execution_count": 7
  }
 ],
 "metadata": {
  "language_info": {
   "name": "python"
  }
 },
 "nbformat": 4,
 "nbformat_minor": 2
}
