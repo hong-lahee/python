{
 "cells": [
  {
   "cell_type": "markdown",
   "metadata": {},
   "source": [
    "<span style=\"font-size:100%\">\n",
    "\n",
    "수업은 모두 열심히 들으셨나요?\n",
    "\n",
    "간혹 강의에서 언급되지 않은 내용이 문제로 나올 수 있습니다.<br>\n",
    "그럴땐 강의 내용 외 문제는 구글링을 통해 해결해주세요<br></span>\n",
    "<span style=\"font-size:80%\">\n",
    "(구글링 또한 개발자가 갖쳐야할 역량 중에 하나랍니다 😊)\n",
    "</span>\n",
    "\n",
    "---"
   ]
  },
  {
   "cell_type": "markdown",
   "metadata": {},
   "source": [
    "<span style=\"font-size:80%\">[문제1]<br><br></span>\n",
    "```인터프리트 방식에 대해 설명하고 2개 이상의 장점을 설명해주세요```"
   ]
  },
  {
   "cell_type": "markdown",
   "metadata": {},
   "source": [
    "<span style=\"color:red\">답변</span>"
   ]
  },
  {
   "cell_type": "markdown",
   "metadata": {},
   "source": [
    "프로그램 코드를 한줄씩 번역하여 기계어로 바꾸는 작업을 하는 방식이다.\n",
    "인프린드에 현재 많이 쓰이는 언어로는 phthon,Javascript 등이 있다.\n",
    "인터프리트의 장점은 번역과정에서 실행파일이 따로 생성되지 않아 메모리 사용량이 적습니다. 그리고 코드 수정및 디버깅이 간단합니다.\n",
    "하지만 단점은 실행속도가 컴파일러에 비해 느립니다."
   ]
  },
  {
   "cell_type": "markdown",
   "metadata": {},
   "source": [
    "---"
   ]
  },
  {
   "cell_type": "markdown",
   "metadata": {},
   "source": [
    "<span style=\"font-size:80%\">[문제2]<br><br></span>\n",
    "```동적 타입 방식의 장점과 단점을 간략히 설명해주세요```"
   ]
  },
  {
   "cell_type": "markdown",
   "metadata": {},
   "source": [
    "<span style=\"color:red\">답변</span>"
   ]
  },
  {
   "cell_type": "markdown",
   "metadata": {},
   "source": [
    "동적 타입 방식의 장점은 유연성이 높고 코드가 간결하여 문법이 간단합니다 그리고 초기 개발 속도가 빠르며 코드작성이 간단할수 있습니다.\n",
    "동적 타입 방식의 단점은 실행 중에 타입 관련 오류가 발생할수 있고 이는 실행 시간에만 감지됩니다 그리고 코드 예측이 어렵습니다."
   ]
  },
  {
   "cell_type": "markdown",
   "metadata": {},
   "source": [
    "---"
   ]
  },
  {
   "cell_type": "markdown",
   "metadata": {},
   "source": [
    "<span style=\"font-size:80%\">[문제3]<br><br></span>\n",
    "```Python으로 정적타입 방식의 코드를 작성할 수 있는 방법을 구글링을 통해 검색 후 설명해주세요```"
   ]
  },
  {
   "cell_type": "markdown",
   "metadata": {},
   "source": [
    "<span style=\"color:red\">답변</span>"
   ]
  },
  {
   "cell_type": "markdown",
   "metadata": {},
   "source": [
    "타입 정보를 추가하고 정적타임 검사 도구를 사용합니다"
   ]
  },
  {
   "cell_type": "markdown",
   "metadata": {},
   "source": [
    "---"
   ]
  },
  {
   "cell_type": "markdown",
   "metadata": {},
   "source": [
    "<span style=\"font-size:80%\">[문제4]<br><br></span>\n",
    "```프로세스와 스레드의 차이점을 설명해주세요```"
   ]
  },
  {
   "cell_type": "markdown",
   "metadata": {},
   "source": [
    "<span style=\"color:red\">답변</span>"
   ]
  },
  {
   "cell_type": "markdown",
   "metadata": {},
   "source": [
    "프로세스란 운영체제로부터 자원을 할당받은 작업의 단위\n",
    "스레드란 프로세스가 할당받은 자원을 이용하는 실행 흐름의 단위\n",
    "일반적으로 하나의 프로그램은 하나 이상의 프로세스를 가지고 있고, 하나의 프로세스는 반드시 하나 이상의 스레드를 갖는다\n",
    "그리고 프로세스를 실행하다가 오류가 발생해서 프로세스가 강제로 종료된다면 다른 프로세스에게는 아무런 영항을 주지 않는다 하지만 스레드는 메모리 영역의 내용을 공유하기 때문에 하나의 스레드에서 오류가 발생한다면 같은 프로세스 내의 다른 스레드 모두가 강제 종료된다."
   ]
  },
  {
   "cell_type": "markdown",
   "metadata": {},
   "source": [
    "---"
   ]
  },
  {
   "cell_type": "markdown",
   "metadata": {},
   "source": [
    "<span style=\"font-size:80%\">[문제5]<br><br></span>\n",
    "```Python 2버전대와 3버전대의 차이를 성명해주세요```"
   ]
  },
  {
   "cell_type": "markdown",
   "metadata": {},
   "source": [
    "<span style=\"color:red\">답변</span>"
   ]
  },
  {
   "cell_type": "markdown",
   "metadata": {},
   "source": [
    "2버전에서는 (정수)/(정수) 형이 무조건 정수로 나오는 반면 3버전에서는 (정수)/(정수) 형이 경우에 따라서 부동소수점 형태로 나오게 됩니다.\n",
    "2버전에서는 print\"쓰고싶은내용\" 이라고 하면 되지만 3버전에서는 print(\"쓰고싶은내용\") 이렇게 괄호를 붙여야 합니다.\n",
    "2버전에서는 xrangr 함수를 쓸수 있었지만 3버전에서는 쓸수 없습니다.\n",
    "3버전이 조금더 향상된 정수 나눗셈 기능을 가지고 있습니다.\n",
    "2버전에서는 ASCII 문자열을 사용했다면 3버전에서는 Unicode 문자열을 사용합니다."
   ]
  },
  {
   "cell_type": "markdown",
   "metadata": {},
   "source": [
    "---"
   ]
  },
  {
   "cell_type": "markdown",
   "metadata": {},
   "source": [
    "<span style=\"font-size:80%\">[문제6]<br><br></span>\n",
    "```Python에서 메모리 관리는 어떻게 이루어지는지 설명해주세요```"
   ]
  },
  {
   "cell_type": "markdown",
   "metadata": {},
   "source": [
    "<span style=\"color:red\">답변</span>"
   ]
  },
  {
   "cell_type": "markdown",
   "metadata": {},
   "source": [
    "파이썬은 자동으로 메모리를 관리하는 고급 프로그래밍 언어입니다. 이것은 개발자가 직접 메모리 할당 및 해제를 관리하지 않고도 메모리 관리를 자동으로 처리 할 수있다는 것을 의미합니다."
   ]
  }
 ],
 "metadata": {
  "language_info": {
   "name": "python"
  }
 },
 "nbformat": 4,
 "nbformat_minor": 2
}
