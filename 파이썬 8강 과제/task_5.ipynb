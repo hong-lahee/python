{
 "cells": [
  {
   "cell_type": "markdown",
   "metadata": {},
   "source": [
    "[문제]\n",
    "\n",
    "'Account' 클래스를 작성하세요. \n",
    "\n",
    "이 클래스는 소유자(owner)와 잔액(balance)을 속성으로 가지며, 잔액은 프라이빗 변수로 선언합니다. \n",
    "\n",
    "'deposit'와 'withdraw' 두 개의 메소드를 통해 잔액을 조작할 수 있도록 하세요. \n",
    "\n",
    "이 때, 잔액은 음수가 될 수 없도록 체크해야 합니다. 'Account' 객체를 생성하고,<br>\n",
    "입금 및 출금 작업을 시뮬레이션한 후, 최종 잔액을 출력하세요."
   ]
  },
  {
   "metadata": {
    "ExecuteTime": {
     "end_time": "2025-04-28T01:34:12.034Z",
     "start_time": "2025-04-28T01:34:06.793595Z"
    }
   },
   "cell_type": "code",
   "source": [
    "class Account:\n",
    "    def __init__(self, owner, __balance):\n",
    "        self.owner = owner\n",
    "        if __balance < 0:\n",
    "            print(\"잔액이 부족합니다\")\n",
    "            __balance = 0\n",
    "        else:\n",
    "            self.__balance = __balance\n",
    "\n",
    "    def deposit(self):\n",
    "        plus = int(input('입금할 금액을 입력하시오'))\n",
    "        self.__balance += plus\n",
    "        print(f'{plus}원을 입금하셨습니다. 잔액은 {self.__balance}원 입니다.')\n",
    "\n",
    "    def withdraw(self):\n",
    "        minus = int(input('출금할 금액을 입력하시오'))\n",
    "        self.__balance -= minus\n",
    "        print(f'{minus}원을 출금하셨습니다. 잔액은 {self.__balance}원 입니다.')\n",
    "\n",
    "    def get__balance(self):\n",
    "        return self.__balance\n",
    "\n",
    "a = Account('홍라희', 10000)\n",
    "\n",
    "a.withdraw()\n",
    "a.deposit()\n",
    "\n",
    "print(f'{a.owner}님의 잔액은 {a.get__balance()}원 입니다.')"
   ],
   "outputs": [
    {
     "name": "stdout",
     "output_type": "stream",
     "text": [
      "5000원을 출금하셨습니다. 잔액은 5000원 입니다.\n",
      "2000원을 입금하셨습니다. 잔액은 7000원 입니다.\n",
      "홍라희님의 잔액은 7000원 입니다.\n"
     ]
    }
   ],
   "execution_count": 8
  }
 ],
 "metadata": {
  "language_info": {
   "name": "python"
  }
 },
 "nbformat": 4,
 "nbformat_minor": 2
}
